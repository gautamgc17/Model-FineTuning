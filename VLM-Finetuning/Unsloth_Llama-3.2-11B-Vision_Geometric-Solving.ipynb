{
 "cells": [
  {
   "cell_type": "markdown",
   "metadata": {
    "collapsed": true,
    "id": "240a68da-aee0-45c8-87c4-df6f9887a74f"
   },
   "source": [
    "## Installations"
   ]
  },
  {
   "cell_type": "code",
   "execution_count": 1,
   "metadata": {
    "id": "27091360fe784cf1a08cfb04e4b32d6a"
   },
   "outputs": [
    {
     "name": "stdout",
     "output_type": "stream",
     "text": [
      "Python 3.10.13\r\n"
     ]
    }
   ],
   "source": [
    "!python --version"
   ]
  },
  {
   "cell_type": "code",
   "execution_count": 3,
   "metadata": {
    "id": "b9ce9a06f27b469a88613bf65eabb216"
   },
   "outputs": [],
   "source": [
    "# !pip install torch==2.5.1 transformers==4.46.2 datasets wandb huggingface_hub python-dotenv --no-cache-dir | tail -n 1 \n",
    "# !pip uninstall unsloth -y && pip install --upgrade --no-cache-dir \"unsloth[colab-new] @ git+https://github.com/unslothai/unsloth.git\"\n",
    "# !pip install --no-deps trl peft accelerate bitsandbytes xformers==0.0.28.post3 --no-cache | tail -n 1 "
   ]
  },
  {
   "cell_type": "code",
   "execution_count": 8,
   "metadata": {
    "id": "e3d7d74768274abb872fba17cb3dff6c"
   },
   "outputs": [
    {
     "name": "stdout",
     "output_type": "stream",
     "text": [
      "2.5.1+cu124\n",
      "CUDA available: True\n",
      "Number of GPUs: 1\n",
      "GPU Name: NVIDIA L40S\n",
      "Current GPU Device: 0\n"
     ]
    }
   ],
   "source": [
    "import torch\n",
    "\n",
    "# Print Torch version \n",
    "print(torch.__version__)\n",
    "\n",
    "# Check if CUDA (GPU) is available\n",
    "print(\"CUDA available:\", torch.cuda.is_available())\n",
    "\n",
    "# Print the number of GPUs\n",
    "print(\"Number of GPUs:\", torch.cuda.device_count())\n",
    "\n",
    "# Print the name of the current GPU device\n",
    "if torch.cuda.is_available():\n",
    "    print(\"GPU Name:\", torch.cuda.get_device_name(0))\n",
    "\n",
    "# Print the current GPU device index\n",
    "print(\"Current GPU Device:\", torch.cuda.current_device())"
   ]
  },
  {
   "cell_type": "markdown",
   "metadata": {
    "id": "2492a55e4a724d148c6f241e7a074567"
   },
   "source": [
    "## Setting Up Weights & Biases"
   ]
  },
  {
   "cell_type": "code",
   "execution_count": null,
   "metadata": {
    "id": "39bd4bf487e346738f311e4621eb375a"
   },
   "outputs": [
    {
     "name": "stderr",
     "output_type": "stream",
     "text": [
      "Failed to detect the name of this notebook, you can set it manually with the WANDB_NOTEBOOK_NAME environment variable to enable code saving.\n",
      "\u001b[34m\u001b[1mwandb\u001b[0m: Using wandb-core as the SDK backend.  Please refer to https://wandb.me/wandb-core for more information.\n",
      "\u001b[34m\u001b[1mwandb\u001b[0m: Currently logged in as: \u001b[33mgautamgc75\u001b[0m (\u001b[33mgautamgc75-org\u001b[0m). Use \u001b[1m`wandb login --relogin`\u001b[0m to force relogin\n",
      "\u001b[34m\u001b[1mwandb\u001b[0m: \u001b[33mWARNING\u001b[0m If you're specifying your api key in code, ensure this code is not shared publicly.\n",
      "\u001b[34m\u001b[1mwandb\u001b[0m: \u001b[33mWARNING\u001b[0m Consider setting the WANDB_API_KEY environment variable, or running `wandb login` from the command line.\n",
      "\u001b[34m\u001b[1mwandb\u001b[0m: Appending key for api.wandb.ai to your netrc file: /home/wsuser/.netrc\n"
     ]
    },
    {
     "name": "stdout",
     "output_type": "stream",
     "text": [
      "Successfully logged into WandB.\n"
     ]
    },
    {
     "data": {
      "text/html": [
       "Changes to your `wandb` environment variables will be ignored because your `wandb` session has already started. For more information on how to modify your settings with `wandb.init()` arguments, please refer to <a href='https://wandb.me/wandb-init' target=\"_blank\">the W&B docs</a>."
      ],
      "text/plain": [
       "<IPython.core.display.HTML object>"
      ]
     },
     "metadata": {},
     "output_type": "display_data"
    },
    {
     "data": {
      "text/html": [
       "Tracking run with wandb version 0.18.7"
      ],
      "text/plain": [
       "<IPython.core.display.HTML object>"
      ]
     },
     "metadata": {},
     "output_type": "display_data"
    },
    {
     "data": {
      "text/html": [
       "Run data is saved locally in <code>/home/wsuser/work/wandb/run-20241128_115639-xkglh7iz</code>"
      ],
      "text/plain": [
       "<IPython.core.display.HTML object>"
      ]
     },
     "metadata": {},
     "output_type": "display_data"
    },
    {
     "data": {
      "text/html": [
       "Syncing run <strong><a href='https://wandb.ai/gautamgc75-org/llama-3.2-vlm-ft-lora/runs/xkglh7iz' target=\"_blank\">run-v1</a></strong> to <a href='https://wandb.ai/gautamgc75-org/llama-3.2-vlm-ft-lora' target=\"_blank\">Weights & Biases</a> (<a href='https://wandb.me/developer-guide' target=\"_blank\">docs</a>)<br/>"
      ],
      "text/plain": [
       "<IPython.core.display.HTML object>"
      ]
     },
     "metadata": {},
     "output_type": "display_data"
    },
    {
     "data": {
      "text/html": [
       " View project at <a href='https://wandb.ai/gautamgc75-org/llama-3.2-vlm-ft-lora' target=\"_blank\">https://wandb.ai/gautamgc75-org/llama-3.2-vlm-ft-lora</a>"
      ],
      "text/plain": [
       "<IPython.core.display.HTML object>"
      ]
     },
     "metadata": {},
     "output_type": "display_data"
    },
    {
     "data": {
      "text/html": [
       " View run at <a href='https://wandb.ai/gautamgc75-org/llama-3.2-vlm-ft-lora/runs/xkglh7iz' target=\"_blank\">https://wandb.ai/gautamgc75-org/llama-3.2-vlm-ft-lora/runs/xkglh7iz</a>"
      ],
      "text/plain": [
       "<IPython.core.display.HTML object>"
      ]
     },
     "metadata": {},
     "output_type": "display_data"
    },
    {
     "name": "stdout",
     "output_type": "stream",
     "text": [
      "WandB run initialized: Project - llama-3.2-vlm-ft-lora, Run - run-v1\n"
     ]
    }
   ],
   "source": [
    "import os\n",
    "import wandb\n",
    "from dotenv import load_dotenv\n",
    "load_dotenv()\n",
    "\n",
    "def setup_wandb(project_name: str, run_name: str):\n",
    "    # Set up your API KEY\n",
    "    try:\n",
    "        api_key = os.getenv(\"WANDB_API_KEY\")\n",
    "        wandb.login(key=api_key)\n",
    "        print(\"Successfully logged into WandB.\")\n",
    "    except KeyError:\n",
    "        raise EnvironmentError(\"WANDB_API_KEY is not set in the environment variables.\")\n",
    "    except Exception as e:\n",
    "        print(f\"Error logging into WandB: {e}\")\n",
    "    \n",
    "    # Optional: Log models\n",
    "    os.environ[\"WANDB_LOG_MODEL\"] = \"checkpoint\"\n",
    "    os.environ[\"WANDB_WATCH\"] = \"all\"\n",
    "    os.environ[\"WANDB_SILENT\"] = \"true\"\n",
    "    \n",
    "    # Initialize the WandB run\n",
    "    try:\n",
    "        wandb.init(project=project_name, name=run_name)\n",
    "        print(f\"WandB run initialized: Project - {project_name}, Run - {run_name}\")\n",
    "    except Exception as e:\n",
    "        print(f\"Error initializing WandB run: {e}\")\n",
    "\n",
    "# Setup WandB\n",
    "setup_wandb(project_name=\"llama-3.2-vlm-ft-lora\", run_name=\"run-v1\")"
   ]
  },
  {
   "cell_type": "markdown",
   "metadata": {
    "id": "06bef9b55883488b808bdab06798ef95"
   },
   "source": [
    "## HuggingFace Authentication"
   ]
  },
  {
   "cell_type": "code",
   "execution_count": null,
   "metadata": {
    "id": "0e6f26b2283e4f6c8e52a910fb3f8c68"
   },
   "outputs": [],
   "source": [
    "from huggingface_hub import login\n",
    "\n",
    "hf_token = os.getenv(\"HUGGINGFACE_TOKEN\")\n",
    "if hf_token is None:\n",
    "    raise EnvironmentError(\"HUGGINGFACE_TOKEN is not set in the environment variables.\")\n",
    "login(hf_token)"
   ]
  },
  {
   "cell_type": "markdown",
   "metadata": {
    "id": "05f31eed011243788ae28521b1595d27"
   },
   "source": [
    "## Loading and Processing the Dataset"
   ]
  },
  {
   "cell_type": "code",
   "execution_count": 11,
   "metadata": {
    "id": "1d303fe99aa54a54aa1b8aed0a9e4ef5"
   },
   "outputs": [
    {
     "name": "stdout",
     "output_type": "stream",
     "text": [
      "Using a sample size of 3000 for fine-tuning.\n",
      "Dataset({\n",
      "    features: ['images', 'texts'],\n",
      "    num_rows: 3000\n",
      "})\n"
     ]
    }
   ],
   "source": [
    "from datasets import load_dataset\n",
    "from PIL import Image\n",
    "\n",
    "# Loading the dataset\n",
    "dataset_id = \"HuggingFaceM4/the_cauldron\"\n",
    "subset = \"geomverse\"\n",
    "dataset = load_dataset(dataset_id, subset, split=\"train\")\n",
    "\n",
    "# Selecting a subset of 3K samples for fine-tuning\n",
    "dataset = dataset.select(range(3000))\n",
    "print(f\"Using a sample size of {len(dataset)} for fine-tuning.\")\n",
    "print(dataset)"
   ]
  },
  {
   "cell_type": "code",
   "execution_count": 12,
   "metadata": {
    "id": "4959e8eaddef4e7dad2d49b37ac25668"
   },
   "outputs": [
    {
     "data": {
      "text/plain": [
       "{'images': [<PIL.JpegImagePlugin.JpegImageFile image mode=RGB size=1936x1699>],\n",
       " 'texts': [{'user': 'If the brown shape is a square where a circle has been removed from it and the perimeter of the purple triangle is 49, compute the area of the brown shape. Assume $\\\\pi=3.14$. Round computations to 2 decimal places.',\n",
       "   'assistant': 'The lengths of two sides of the purple triangle are 23 and 10 and the perimeter is 49, so the lengths of the side marked with \"$a$\" equals $49 - 23 - 10 = 16$. The length of the side of the brown shape is 16, so its area is $16^2 - \\\\frac{\\\\pi}{4} * (16^2) = 256 - 0.79 * 256 = 256 - 202.24 = 53.76$. Therefore the final answer is 53.76.',\n",
       "   'source': 'GeomVerse'}]}"
      ]
     },
     "execution_count": 12,
     "metadata": {},
     "output_type": "execute_result"
    }
   ],
   "source": [
    "dataset[5]"
   ]
  },
  {
   "cell_type": "code",
   "execution_count": 13,
   "metadata": {
    "id": "69b3e0a0223946019e5d1ff86c92e095"
   },
   "outputs": [
    {
     "name": "stdout",
     "output_type": "stream",
     "text": [
      "Image Mode: RGB\n",
      "Image Size: (1936, 1699)\n",
      "Image Type: <class 'PIL.JpegImagePlugin.JpegImageFile'>\n",
      "Displaying the Image:\n"
     ]
    },
    {
     "data": {
      "image/jpeg": "[encoded data removed]",
      "image/png": "[encoded data removed]",
      "text/plain": [
       "<PIL.Image.Image image mode=RGB size=400x351>"
      ]
     },
     "metadata": {},
     "output_type": "display_data"
    }
   ],
   "source": [
    "# Print the mode of the image in dataset[5]\n",
    "print(f\"Image Mode: {dataset[5]['images'][0].mode}\")\n",
    "\n",
    "# Print the size of the image in dataset[5]\n",
    "print(f\"Image Size: {dataset[5]['images'][0].size}\")\n",
    "\n",
    "# Print the type of the image in dataset[5]\n",
    "print(f\"Image Type: {type(dataset[5]['images'][0])}\")\n",
    "\n",
    "# Display the image - dataset[5][\"images\"][0].show()\n",
    "print(\"Displaying the Image:\")\n",
    "small_image = dataset[5][\"images\"][0].copy()  # Create a copy to avoid modifying the original\n",
    "small_image.thumbnail((400, 400))             # Resize to fit within 400x400 pixels\n",
    "small_image.show()"
   ]
  },
  {
   "cell_type": "code",
   "execution_count": 14,
   "metadata": {
    "id": "c01e66d001da49338f83eb45bbd04262"
   },
   "outputs": [],
   "source": [
    "def convert_to_rgb(image):\n",
    "    \"\"\"Convert image to RGB format if not already in RGB.\"\"\"\n",
    "    if image.mode == \"RGB\":\n",
    "        return image\n",
    "\n",
    "    # Convert to RGBA, composite over a white background, and finally to RGB\n",
    "    image_rgba = image.convert(\"RGBA\")\n",
    "    background = Image.new(\"RGBA\", image_rgba.size, (255, 255, 255))\n",
    "    alpha_composite = Image.alpha_composite(background, image_rgba)\n",
    "    return alpha_composite.convert(\"RGB\")\n",
    "\n",
    "\n",
    "def reduce_image_size(image, scale=0.5):\n",
    "    \"\"\"Reduce image size by a given scale.\"\"\"\n",
    "    original_width, original_height = image.size\n",
    "    new_width = int(original_width * scale)\n",
    "    new_height = int(original_height * scale)\n",
    "    return image.resize((new_width, new_height))\n",
    "\n",
    "\n",
    "def format_data(sample):\n",
    "    \"\"\"Format the dataset sample into structured messages.\"\"\"\n",
    "    image = sample[\"images\"][0]\n",
    "    image = convert_to_rgb(image)  \n",
    "    image = reduce_image_size(image)\n",
    "\n",
    "    return {\n",
    "        \"messages\": [\n",
    "            {\n",
    "                \"role\": \"user\",\n",
    "                \"content\": [\n",
    "                    {\n",
    "                        \"type\": \"text\",\n",
    "                        \"text\": sample[\"texts\"][0][\"user\"],\n",
    "                    },\n",
    "                    {\n",
    "                        \"type\": \"image\",\n",
    "                        \"image\": image,  \n",
    "                    }\n",
    "                ],\n",
    "            },\n",
    "            {\n",
    "                \"role\": \"assistant\",\n",
    "                \"content\": [\n",
    "                    {\n",
    "                        \"type\": \"text\",\n",
    "                        \"text\": sample[\"texts\"][0][\"assistant\"],\n",
    "                    }\n",
    "                ],\n",
    "            },\n",
    "        ],\n",
    "    }\n",
    "\n",
    "\n",
    "# Transform the dataset\n",
    "converted_dataset = [format_data(sample) for sample in dataset]"
   ]
  },
  {
   "cell_type": "code",
   "execution_count": 15,
   "metadata": {
    "id": "5f6b750d929244f79b922f9f49ba6c22"
   },
   "outputs": [
    {
     "data": {
      "text/plain": [
       "{'messages': [{'role': 'user',\n",
       "   'content': [{'type': 'text',\n",
       "     'text': 'If the brown shape is a square where a circle has been removed from it and the perimeter of the purple triangle is 49, compute the area of the brown shape. Assume $\\\\pi=3.14$. Round computations to 2 decimal places.'},\n",
       "    {'type': 'image',\n",
       "     'image': <PIL.Image.Image image mode=RGB size=968x849>}]},\n",
       "  {'role': 'assistant',\n",
       "   'content': [{'type': 'text',\n",
       "     'text': 'The lengths of two sides of the purple triangle are 23 and 10 and the perimeter is 49, so the lengths of the side marked with \"$a$\" equals $49 - 23 - 10 = 16$. The length of the side of the brown shape is 16, so its area is $16^2 - \\\\frac{\\\\pi}{4} * (16^2) = 256 - 0.79 * 256 = 256 - 202.24 = 53.76$. Therefore the final answer is 53.76.'}]}]}"
      ]
     },
     "execution_count": 15,
     "metadata": {},
     "output_type": "execute_result"
    }
   ],
   "source": [
    "converted_dataset[5]"
   ]
  },
  {
   "cell_type": "markdown",
   "metadata": {
    "id": "e0ff450a225241b1878d8fc897bb8193"
   },
   "source": [
    "## Loading the Base Model"
   ]
  },
  {
   "cell_type": "code",
   "execution_count": null,
   "metadata": {
    "id": "3ed0a77c3e724902898c7a36165fc9a4"
   },
   "outputs": [],
   "source": [
    "import torch\n",
    "from unsloth import FastVisionModel \n",
    "\n",
    "model_name = \"unsloth/Llama-3.2-11B-Vision-Instruct\"\n",
    "\n",
    "model, tokenizer = FastVisionModel.from_pretrained(\n",
    "    model_name = model_name,\n",
    "    load_in_4bit = False,                     # Use 4bit to reduce memory use. False for 16bit LoRA.\n",
    "    use_gradient_checkpointing = \"unsloth\",   # True or \"unsloth\" for long context\n",
    ")"
   ]
  },
  {
   "cell_type": "markdown",
   "metadata": {
    "id": "3d101d45b3184fcf8de4d35d06594cf0"
   },
   "source": [
    "## Configuring LoRA for Fine-Tuning"
   ]
  },
  {
   "cell_type": "code",
   "execution_count": 17,
   "metadata": {
    "id": "101bb2427e3549de8428e7d2da9bb6b0"
   },
   "outputs": [],
   "source": [
    "model = FastVisionModel.get_peft_model(\n",
    "    model,\n",
    "    finetune_vision_layers     = True, # False if not finetuning vision layers\n",
    "    finetune_language_layers   = True, # False if not finetuning language layers\n",
    "    finetune_attention_modules = True, # False if not finetuning attention layers\n",
    "    finetune_mlp_modules       = True, # False if not finetuning MLP layers\n",
    "\n",
    "    r = 8,             # The larger, the higher the accuracy, but might overfit\n",
    "    lora_alpha = 16,   # Recommended alpha == r atleast or alpha == 2*r (recommended)\n",
    "    lora_dropout = 0,\n",
    "    bias = \"none\",\n",
    "    random_state = 3407,\n",
    "    use_rslora = False,  # We support rank stabilized LoRA\n",
    "    loftq_config = None, # And LoftQ\n",
    "    # target_modules = \"all-linear\", # Optional now! Can specify a list if needed\n",
    ")"
   ]
  },
  {
   "cell_type": "markdown",
   "metadata": {
    "id": "bac648afd8a24bf7891ffdbe62b1c89f"
   },
   "source": [
    "## Evaluate the Base Vision Model"
   ]
  },
  {
   "cell_type": "code",
   "execution_count": 18,
   "metadata": {
    "id": "cc6ba26dc11b44a8835becffec269da0"
   },
   "outputs": [],
   "source": [
    "FastVisionModel.for_inference(model)         # Enable for inference!\n",
    "\n",
    "image = dataset[5][\"images\"][0]\n",
    "instruction = dataset[5][\"texts\"][0][\"user\"]\n",
    "\n",
    "messages = [\n",
    "    {\n",
    "        \"role\": \"user\",\n",
    "        \"content\": [\n",
    "            {\n",
    "                \"type\": \"image\",\n",
    "            },\n",
    "            {\n",
    "                \"type\": \"text\",\n",
    "                \"text\": instruction\n",
    "            },\n",
    "        ]\n",
    "    }\n",
    "]\n",
    "\n",
    "input_text = tokenizer.apply_chat_template(messages, add_generation_prompt = True)\n",
    "inputs = tokenizer(\n",
    "    image,\n",
    "    input_text,\n",
    "    add_special_tokens = False,\n",
    "    return_tensors = \"pt\",\n",
    ").to(\"cuda\")"
   ]
  },
  {
   "cell_type": "code",
   "execution_count": 19,
   "metadata": {
    "id": "f7fc2412f25c4eac82d17735a1d59710"
   },
   "outputs": [
    {
     "name": "stdout",
     "output_type": "stream",
     "text": [
      "The information in the image is:\n",
      "\n",
      "* A brown shape consisting of a square with a circle removed from it.\n",
      "* The square has a side length of 10 units (as labeled).\n",
      "* The circle has a radius of 7 units (as labeled).\n",
      "* The purple triangle has a perimeter of 49 units (as labeled).\n",
      "* The Greek letters alpha, beta, and gamma are labeled on the purple triangle.\n",
      "* The Greek letter alpha is also labeled on the circle.\n",
      "* The variable a is labeled on the side of the square and is the height of the purple triangle.\n",
      "* The value of pi (π) is given as 3.14.\n",
      "* Computation of answers should be rounded to 2 decimal places. \n",
      "## Step 1\n",
      "The perimeter of the purple triangle is 49 units.\n",
      "\n",
      "## Step 2\n",
      "This means each side of the triangle is $\\frac{49}{3}$ units.\n",
      "\n",
      "## Step 3\n",
      "Each angle in the triangle is 60 degrees since it is equilateral.\n",
      "\n",
      "## Step 4\n",
      "The area of the purple triangle is thus $\\frac{\\sqrt{3}}{4}\\left(\\frac{49}{3}\\right)^2=49.5\\text{ sq. units}.$\n",
      "\n",
      "## Step 5\n",
      "The side length of the brown shape is the same as the purple triangle since it is the same as the base of the brown shape.\n",
      "\n",
      "## Step 6\n",
      "The height of the brown shape is therefore $a=7.5\\text{ units}$, obtained by dropping an altitude from the point opposite to the base to the midpoint of the base of the triangle.\n",
      "\n",
      "## Step 7\n",
      "This means the brown shape is actually the result of removing a 49.5 square units region from the large square. We obtain the area of the square to be $49.5+\\left(\\frac{3.14\\cdot7^2}{4}\\right) = 63.55+45.2=108.75$ square units.\n",
      "\n",
      "The final answer is: $\\boxed{108.75}$<|eot_id|>\n"
     ]
    }
   ],
   "source": [
    "from transformers import TextStreamer\n",
    "\n",
    "text_streamer = TextStreamer(tokenizer, skip_prompt = True)\n",
    "_ = model.generate(**inputs, streamer = text_streamer, max_new_tokens = 1024,\n",
    "                   use_cache = True, temperature = 1.5, min_p = 0.1)"
   ]
  },
  {
   "cell_type": "markdown",
   "metadata": {
    "id": "6d0ae6dc68134c149ebd2e4168b5427e"
   },
   "source": [
    "## Training with SFTTrainer and Unsloth"
   ]
  },
  {
   "cell_type": "code",
   "execution_count": 20,
   "metadata": {
    "id": "44f33affa60146599f2f5d9624925d3a"
   },
   "outputs": [],
   "source": [
    "from trl import SFTTrainer, SFTConfig\n",
    "from unsloth import is_bf16_supported\n",
    "from unsloth.trainer import UnslothVisionDataCollator\n",
    "\n",
    "\n",
    "args = SFTConfig(\n",
    "        per_device_train_batch_size = 2,\n",
    "        gradient_accumulation_steps = 4,\n",
    "        warmup_steps = 5,\n",
    "        num_train_epochs = 3, \n",
    "        learning_rate = 2e-4,\n",
    "        fp16 = not is_bf16_supported(),\n",
    "        bf16 = is_bf16_supported(),\n",
    "\n",
    "        optim = \"adamw_8bit\",\n",
    "        weight_decay = 0.01,\n",
    "        lr_scheduler_type = \"linear\",\n",
    "        seed = 3407,\n",
    "        output_dir = \"outputs\",\n",
    "        report_to = \"wandb\",  \n",
    "        logging_steps = 1,  \n",
    "        logging_strategy = \"steps\",\n",
    "        save_strategy = \"no\",\n",
    "        load_best_model_at_end = True,\n",
    "        save_only_model = False,\n",
    "        \n",
    "        # You MUST put the below items for vision finetuning:\n",
    "        remove_unused_columns = False,\n",
    "        dataset_text_field = \"\",\n",
    "        dataset_kwargs = {\"skip_prepare_dataset\": True},\n",
    "        dataset_num_proc = 4,\n",
    "        max_seq_length = 2048,\n",
    "    )"
   ]
  },
  {
   "cell_type": "code",
   "execution_count": 21,
   "metadata": {
    "id": "7f6795da99444e458bb9604e02193db6"
   },
   "outputs": [],
   "source": [
    "FastVisionModel.for_training(model)    # Enable for training!\n",
    "\n",
    "trainer = SFTTrainer(\n",
    "    model = model,\n",
    "    tokenizer = tokenizer,\n",
    "    data_collator = UnslothVisionDataCollator(model, tokenizer), # Must use!\n",
    "    train_dataset = converted_dataset,\n",
    "    args = args,\n",
    ")"
   ]
  },
  {
   "cell_type": "code",
   "execution_count": 22,
   "metadata": {
    "id": "24841ec0e18b46dda1372d69a284492a"
   },
   "outputs": [
    {
     "name": "stdout",
     "output_type": "stream",
     "text": [
      "GPU = NVIDIA L40S. Max memory = 44.521 GB.\n",
      "22.111 GB of memory reserved.\n"
     ]
    }
   ],
   "source": [
    "# Show current memory stats\n",
    "\n",
    "gpu_stats = torch.cuda.get_device_properties(0)\n",
    "start_gpu_memory = round(torch.cuda.max_memory_reserved() / 1024 / 1024 / 1024, 3)\n",
    "max_memory = round(gpu_stats.total_memory / 1024 / 1024 / 1024, 3)\n",
    "print(f\"GPU = {gpu_stats.name}. Max memory = {max_memory} GB.\")\n",
    "print(f\"{start_gpu_memory} GB of memory reserved.\")"
   ]
  },
  {
   "cell_type": "code",
   "execution_count": 23,
   "metadata": {
    "id": "56642cdcdf5d402682da71eaa9545e78"
   },
   "outputs": [
    {
     "data": {
      "text/plain": [
       "53377"
      ]
     },
     "execution_count": 23,
     "metadata": {},
     "output_type": "execute_result"
    }
   ],
   "source": [
    "import torch\n",
    "import gc\n",
    "\n",
    "# Clear PyTorch's cache\n",
    "torch.cuda.empty_cache()\n",
    "\n",
    "# Run Python's garbage collector\n",
    "gc.collect()"
   ]
  },
  {
   "cell_type": "code",
   "execution_count": 24,
   "metadata": {
    "id": "2be4e613540c4088bc1ea7f830017952"
   },
   "outputs": [
    {
     "name": "stderr",
     "output_type": "stream",
     "text": [
      "==((====))==  Unsloth - 2x faster free finetuning | Num GPUs = 1\n",
      "   \\\\   /|    Num examples = 3,000 | Num Epochs = 3\n",
      "O^O/ \\_/ \\    Batch size per device = 2 | Gradient Accumulation steps = 4\n",
      "\\        /    Total batch size = 8 | Total steps = 1,125\n",
      " \"-____-\"     Number of trainable parameters = 33,587,200\n",
      "🦥 Unsloth needs about 1-3 minutes to load everything - please wait!\n",
      "\u001b[34m\u001b[1mwandb\u001b[0m: \u001b[33mWARNING\u001b[0m The `run_name` is currently set to the same value as `TrainingArguments.output_dir`. If this was not intended, please specify a different run name by setting the `TrainingArguments.run_name` parameter.\n"
     ]
    },
    {
     "data": {
      "text/html": [
       "\n",
       "    <div>\n",
       "      \n",
       "      <progress value='2' max='1125' style='width:300px; height:20px; vertical-align: middle;'></progress>\n",
       "      [   2/1125 : < :, Epoch 0.00/3]\n",
       "    </div>\n",
       "    <table border=\"1\" class=\"dataframe\">\n",
       "  <thead>\n",
       " <tr style=\"text-align: left;\">\n",
       "      <th>Step</th>\n",
       "      <th>Training Loss</th>\n",
       "    </tr>\n",
       "  </thead>\n",
       "  <tbody>\n",
       "  </tbody>\n",
       "</table><p>"
      ],
      "text/plain": [
       "<IPython.core.display.HTML object>"
      ]
     },
     "metadata": {},
     "output_type": "display_data"
    }
   ],
   "source": [
    "trainer_stats = trainer.train()"
   ]
  },
  {
   "cell_type": "code",
   "execution_count": null,
   "metadata": {
    "id": "9f2cfddf2c424ebb8b316472dc659051"
   },
   "outputs": [],
   "source": [
    "print(trainer_stats)\n",
    "wandb.finish()"
   ]
  },
  {
   "cell_type": "code",
   "execution_count": null,
   "metadata": {
    "id": "44525a23e802432687001d589142d313"
   },
   "outputs": [],
   "source": [
    "# Show final memory and time stats\n",
    "\n",
    "used_memory = round(torch.cuda.max_memory_reserved() / 1024 / 1024 / 1024, 3)\n",
    "used_memory_for_lora = round(used_memory - start_gpu_memory, 3)\n",
    "used_percentage = round(used_memory         /max_memory*100, 3)\n",
    "lora_percentage = round(used_memory_for_lora/max_memory*100, 3)\n",
    "print(f\"{trainer_stats.metrics['train_runtime']} seconds used for training.\")\n",
    "print(f\"{round(trainer_stats.metrics['train_runtime']/60, 2)} minutes used for training.\")\n",
    "print(f\"Peak reserved memory = {used_memory} GB.\")\n",
    "print(f\"Peak reserved memory for training = {used_memory_for_lora} GB.\")\n",
    "print(f\"Peak reserved memory % of max memory = {used_percentage} %.\")\n",
    "print(f\"Peak reserved memory for training % of max memory = {lora_percentage} %.\")"
   ]
  },
  {
   "cell_type": "markdown",
   "metadata": {
    "id": "8e992df564fa4ce1834db441c3bb4143"
   },
   "source": [
    "## Saving the Model\n",
    "\n",
    "After training, the fine-tuned model is saved locally and pushed to Hugging Face's hub for further access and deployment. However, this only saves the LoRA adapters."
   ]
  },
  {
   "cell_type": "code",
   "execution_count": null,
   "metadata": {
    "id": "2fd7220431d74245818607ae3e320f23"
   },
   "outputs": [],
   "source": [
    "# Local saving\n",
    "model.save_pretrained(\"Llama3.2-VLM-FineTune-LoRA-Model\") \n",
    "tokenizer.save_pretrained(\"Llama3.2-VLM-FineTune-LoRA-Model\")\n",
    "\n",
    "# Online saving\n",
    "model.push_to_hub(\"gautamgc17/Llama3.2-VLM-FineTune-LoRA-Model\", token = hf_token)\n",
    "tokenizer.push_to_hub(\"gautamgc17/Llama3.2-VLM-FineTune-LoRA-Model\", token = hf_token) "
   ]
  },
  {
   "cell_type": "markdown",
   "metadata": {
    "id": "5c25b8f0b8b2433c88375ecdf2394d17"
   },
   "source": [
    "## Saving to float16 for VLLM\n",
    "\n",
    "For merging the LoRA adapters with the base model and save the model to 16-bit precision for optimized performance with vLLM, use:\n",
    "\n"
   ]
  },
  {
   "cell_type": "code",
   "execution_count": null,
   "metadata": {
    "id": "381e727c30224d4a834dcc97ea03fb49"
   },
   "outputs": [],
   "source": [
    "# Merge to 16bit\n",
    "model.save_pretrained_merged(\"Llama3.2-VLM-FineTune-Model\", tokenizer, save_method = \"merged_16bit\")\n",
    "model.push_to_hub_merged(\"gautamgc17/Llama3.2-VLM-FineTune-Model\", tokenizer, save_method = \"merged_16bit\", token = hf_token)"
   ]
  },
  {
   "cell_type": "markdown",
   "metadata": {
    "id": "eb70e2d24b0e4d278aa60a9719e2cebf"
   },
   "source": [
    "## Model Evaluation"
   ]
  },
  {
   "cell_type": "code",
   "execution_count": null,
   "metadata": {
    "id": "53651e2177d44bb78c9310de6e250408"
   },
   "outputs": [],
   "source": [
    "from unsloth import FastVisionModel\n",
    "\n",
    "model, tokenizer = FastVisionModel.from_pretrained(\n",
    "    model_name = \"Llama3.2-VLM-FineTune-LoRA-Model\", \n",
    "    load_in_4bit = False,\n",
    ")\n",
    "FastVisionModel.for_inference(model)         # Enable for inference!"
   ]
  },
  {
   "cell_type": "code",
   "execution_count": 14,
   "metadata": {
    "id": "130fe3af5685459b81c8b1c79cc4ddae"
   },
   "outputs": [],
   "source": [
    "from datasets import load_dataset\n",
    "from PIL import Image\n",
    "\n",
    "# Loading the dataset\n",
    "dataset_id = \"HuggingFaceM4/the_cauldron\"\n",
    "subset = \"geomverse\"\n",
    "dataset = load_dataset(dataset_id, subset, split=\"train\")"
   ]
  },
  {
   "cell_type": "code",
   "execution_count": 8,
   "metadata": {
    "id": "72437f67c5c14d05872f5165cdfb60d6"
   },
   "outputs": [],
   "source": [
    "image = dataset[-1][\"images\"][0]\n",
    "instruction = dataset[-1][\"texts\"][0][\"user\"]\n",
    "\n",
    "messages = [\n",
    "    {\n",
    "        \"role\": \"user\",\n",
    "        \"content\": [\n",
    "            {\n",
    "                \"type\": \"image\",\n",
    "            },\n",
    "            {\n",
    "                \"type\": \"text\",\n",
    "                \"text\": instruction\n",
    "            },\n",
    "        ]\n",
    "    }\n",
    "]\n",
    "\n",
    "input_text = tokenizer.apply_chat_template(messages, add_generation_prompt = True)\n",
    "inputs = tokenizer(\n",
    "    image,\n",
    "    input_text,\n",
    "    add_special_tokens = False,\n",
    "    return_tensors = \"pt\",\n",
    ").to(\"cuda\")"
   ]
  },
  {
   "cell_type": "code",
   "execution_count": 9,
   "metadata": {
    "id": "9605ad2914c84de0834d8b9966a63d75"
   },
   "outputs": [
    {
     "data": {
      "text/plain": [
       "[{'role': 'user',\n",
       "  'content': [{'type': 'image'},\n",
       "   {'type': 'text',\n",
       "    'text': 'If the area of the ABCD parallelogram is 66, the area of the AEFB rectangle is 114, the AEGH shape is a combination of a rectangle and a semi-circle and the perimeter of the AEGH shape is 62, compute the degree of the DAB angle. Assume $\\\\pi=3.14$. Round computations to 2 decimal places.'}]}]"
      ]
     },
     "execution_count": 9,
     "metadata": {},
     "output_type": "execute_result"
    }
   ],
   "source": [
    "messages"
   ]
  },
  {
   "cell_type": "code",
   "execution_count": 15,
   "metadata": {
    "id": "48278dc963a844648d7c26d68d343ade"
   },
   "outputs": [
    {
     "name": "stdout",
     "output_type": "stream",
     "text": [
      "Ground Truth Answer: The perimeter of the AEGH shape is 62 and the length of the EG side is 13, so $2 * OtherSide + 13 + \\frac{13 * 3.14}{2} = 62$. So $2 * OtherSide = 62 - 13 - \\frac{13 * 3.14}{2} = 62 - 13 - \\frac{40.82}{2} = 62 - 13 - 20.41 = 28.59$. Therefore, the length of the AE side is $\\frac{28.59}{2} = 14.29$. The area of the AEFB rectangle is 114 and the length of its AE side is 14.29, so the length of the AB side is $\\frac{114}{14.29} = 7.98$. The lengths of the AD and the AB sides of the ABCD parallelogram are 22 and 7.98 and the area is 66 so the sine of the DAB angle is $\\frac{66}{22 * 7.98} = 0.38$ and so the angle in degrees is $\\arcsin(0.38) = 22.33$. Therefore the final answer is 22.33.\n"
     ]
    }
   ],
   "source": [
    "print(\"Ground Truth Answer:\", dataset[-1][\"texts\"][0][\"assistant\"])"
   ]
  },
  {
   "cell_type": "code",
   "execution_count": 22,
   "metadata": {
    "id": "37b8f1f39083428a88057357cfdf901c"
   },
   "outputs": [
    {
     "name": "stdout",
     "output_type": "stream",
     "text": [
      "The perimeter of the AEGH shape is 62 and the length of the EG side is 13, so $2 * OtherSide + 13 + \\frac{13 * 3.14}{2} = 62$. So $2 * OtherSide = 62 - 13 - \\frac{13 * 3.14}{2} = 62 - 13 - \\frac{40.82}{2} = 62 - 13 - 20.41 = 28.59$. Therefore, the length of the AE side is $\\frac{28.59}{2} = 14.29$. The area of the AEFB rectangle is 114 and the length of its AE side is 14.29, so the length of the AB side is $\\frac{114}{14.29} = 7.99$. The lengths of the AD and the AB sides of the ABCD parallelogram are 22 and 7.99 and the area is 66 so the sine of the DAB angle is $\\frac{66}{22 * 7.99} = 0.36$ and so the angle in degrees is $\\arcsin(0.36) = 21.1$. Therefore the final answer is 21.1.<|eot_id|>\n"
     ]
    }
   ],
   "source": [
    "from transformers import TextStreamer\n",
    "\n",
    "text_streamer = TextStreamer(tokenizer, skip_prompt = True)\n",
    "_ = model.generate(**inputs, streamer = text_streamer, max_new_tokens = 1024,\n",
    "                   use_cache = True, temperature = 1.5, min_p = 0.1)"
   ]
  },
  {
   "cell_type": "code",
   "execution_count": null,
   "metadata": {
    "id": "2897406705f841948dcf1b62fd47d020"
   },
   "outputs": [],
   "source": []
  }
 ],
 "metadata": {
  "kernelspec": {
   "display_name": "Python 3.10",
   "language": "python",
   "name": "python3"
  },
  "language_info": {
   "codemirror_mode": {
    "name": "ipython",
    "version": 3
   },
   "file_extension": ".py",
   "mimetype": "text/x-python",
   "name": "python",
   "nbconvert_exporter": "python",
   "pygments_lexer": "ipython3",
   "version": "3.10.13"
  }
 },
 "nbformat": 4,
 "nbformat_minor": 1
}
